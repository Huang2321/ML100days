{
 "cells": [
  {
   "cell_type": "code",
   "execution_count": 4,
   "id": "8372e0e7",
   "metadata": {},
   "outputs": [],
   "source": [
    "# library\n",
    "import matplotlib.pyplot as plt\n",
    "import numpy as np\n",
    "import pandas as pd\n",
    "from scipy import stats\n",
    "import math\n",
    "import statistics\n",
    "import seaborn as sns"
   ]
  },
  {
   "cell_type": "code",
   "execution_count": 5,
   "id": "3eafb8a7",
   "metadata": {},
   "outputs": [
    {
     "name": "stdout",
     "output_type": "stream",
     "text": [
      "P(Z<1) 0.8413447460685429\n"
     ]
    }
   ],
   "source": [
    "#Q1\n",
    "#常態分佈的計算\n",
    "#計算標準常態分配記x小於1的比例\n",
    "mu=0\n",
    "sigma=1\n",
    "y = stats.norm.cdf(1, mu, sigma)\n",
    "print(\"P(Z<1)\", y)"
   ]
  },
  {
   "cell_type": "code",
   "execution_count": 6,
   "id": "393c6399",
   "metadata": {},
   "outputs": [
    {
     "name": "stdout",
     "output_type": "stream",
     "text": [
      "P(Z>1 or Z<-1)= 0.31731050786291415\n"
     ]
    }
   ],
   "source": [
    "#Q2\n",
    "#先算(P(-1<Z<1))，再算剩餘的\n",
    "mu=0\n",
    "sigma=1\n",
    "a = stats.norm.cdf(1, mu, sigma)\n",
    "b = stats.norm.cdf(-1, mu, sigma) \n",
    "print(\"P(Z>1 or Z<-1)=\", 1-(a-b))"
   ]
  },
  {
   "cell_type": "code",
   "execution_count": 7,
   "id": "3098dfae",
   "metadata": {},
   "outputs": [
    {
     "name": "stdout",
     "output_type": "stream",
     "text": [
      "P(Z<2)= 0.15865525393145707\n"
     ]
    }
   ],
   "source": [
    "#Q3\n",
    "mu=0\n",
    "sigma=1\n",
    "a = stats.norm.cdf(2, mu, sigma)\n",
    "print(\"P(Z<2)=\", b)\n"
   ]
  },
  {
   "cell_type": "code",
   "execution_count": 8,
   "id": "1cba2dad",
   "metadata": {},
   "outputs": [
    {
     "name": "stdout",
     "output_type": "stream",
     "text": [
      "P(Z<6)= 0.15865525393145707\n"
     ]
    }
   ],
   "source": [
    "#Q3\n",
    "mu=2\n",
    "sigma=4\n",
    "a = stats.norm.cdf(6, mu, sigma)\n",
    "print(\"P(Z<6)=\", b)"
   ]
  },
  {
   "cell_type": "code",
   "execution_count": null,
   "id": "d46d050f",
   "metadata": {},
   "outputs": [],
   "source": []
  }
 ],
 "metadata": {
  "kernelspec": {
   "display_name": "Python 3",
   "language": "python",
   "name": "python3"
  },
  "language_info": {
   "codemirror_mode": {
    "name": "ipython",
    "version": 3
   },
   "file_extension": ".py",
   "mimetype": "text/x-python",
   "name": "python",
   "nbconvert_exporter": "python",
   "pygments_lexer": "ipython3",
   "version": "3.8.8"
  }
 },
 "nbformat": 4,
 "nbformat_minor": 5
}
