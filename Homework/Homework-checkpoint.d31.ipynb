{
 "cells": [
  {
   "cell_type": "code",
   "execution_count": null,
   "id": "af52073f",
   "metadata": {},
   "outputs": [],
   "source": [
    "#Q3:你的決策因為男生女生比例不同 (先驗分配不同)，決策有沒有改變？\n",
    "#本題貝式定理來看，男生長髮機率大於女性\n",
    "#因此也能應證[先驗分配]的重要性，會影響後續決策"
   ]
  }
 ],
 "metadata": {
  "kernelspec": {
   "display_name": "Python 3",
   "language": "python",
   "name": "python3"
  },
  "language_info": {
   "codemirror_mode": {
    "name": "ipython",
    "version": 3
   },
   "file_extension": ".py",
   "mimetype": "text/x-python",
   "name": "python",
   "nbconvert_exporter": "python",
   "pygments_lexer": "ipython3",
   "version": "3.8.8"
  }
 },
 "nbformat": 4,
 "nbformat_minor": 5
}
