{
 "cells": [
  {
   "cell_type": "code",
   "execution_count": 1,
   "id": "8f857274",
   "metadata": {},
   "outputs": [
    {
     "name": "stdout",
     "output_type": "stream",
     "text": [
      "<module 'numpy' from 'C:\\\\Users\\\\Family\\\\anaconda3\\\\lib\\\\site-packages\\\\numpy\\\\__init__.py'>\n",
      "1.20.1\n"
     ]
    }
   ],
   "source": [
    "import numpy as np\n",
    "print(np) # <module 'numpy' from '.../numpy/__init__.py'>\n",
    "print(np.__version__) # 1.20.1\n"
   ]
  },
  {
   "cell_type": "code",
   "execution_count": 35,
   "id": "fd897967",
   "metadata": {},
   "outputs": [
    {
     "name": "stdout",
     "output_type": "stream",
     "text": [
      "list(a) [8, 1, 4, 5, 1, 8]\n",
      "tolist() [8, 1, 4, 5, 1, 8]\n",
      "list(b) [array([7, 9, 1]), array([1, 5, 5])]\n",
      "tolist() [[7, 9, 1], [1, 5, 5]]\n",
      "list(c) [array([[5, 7, 0, 1],\n",
      "       [2, 0, 8, 2],\n",
      "       [4, 0, 8, 9]]), array([[0, 3, 9, 5],\n",
      "       [1, 7, 6, 4],\n",
      "       [4, 2, 4, 7]])]\n",
      "tolist() [[[5, 7, 0, 1], [2, 0, 8, 2], [4, 0, 8, 9]], [[0, 3, 9, 5], [1, 7, 6, 4], [4, 2, 4, 7]]]\n"
     ]
    }
   ],
   "source": [
    "import numpy as np\n",
    "a = np.random.randint(10, size=6)\n",
    "b = np.random.randint(10, size=6).reshape(2,3)\n",
    "c = np.random.randint(10, size=24).reshape(2,3,4)\n",
    "\n",
    "print('list(a)',(list(a)))\n",
    "print('tolist()', a.tolist())\n",
    "\n",
    "print('list(b)',(list(b)))\n",
    "print('tolist()', b.tolist())\n",
    "\n",
    "print('list(c)',(list(c)))\n",
    "print('tolist()', c.tolist())"
   ]
  },
  {
   "cell_type": "code",
   "execution_count": 25,
   "id": "05dcfd9a",
   "metadata": {},
   "outputs": [
    {
     "name": "stdout",
     "output_type": "stream",
     "text": [
      "list(a): [8, 8, 7, 6, 8, 9]\n",
      "tolist(): [8, 8, 7, 6, 8, 9]\n"
     ]
    }
   ],
   "source": [
    "print('list(a):', (list(a)))\n",
    "print('tolist():',a.tolist())"
   ]
  },
  {
   "cell_type": "code",
   "execution_count": 22,
   "id": "8855c438",
   "metadata": {},
   "outputs": [
    {
     "name": "stdout",
     "output_type": "stream",
     "text": [
      "[8 8 7 6 8 9]\n",
      "1\n",
      "(6,)\n",
      "6\n",
      "int32\n",
      "6\n",
      "<class 'numpy.ndarray'>\n"
     ]
    }
   ],
   "source": [
    "import numpy as np\n",
    "\n",
    "a = np.random.randint(10, size=6)\n",
    "\n",
    "print(a)\n",
    "\n",
    "print(a.ndim)\n",
    "print(a.shape)\n",
    "print(a.size)\n",
    "print(a.dtype)\n",
    "print(len(a))\n",
    "print(type(a))"
   ]
  },
  {
   "cell_type": "code",
   "execution_count": 30,
   "id": "b6300cd6",
   "metadata": {},
   "outputs": [
    {
     "name": "stdout",
     "output_type": "stream",
     "text": [
      "[[4 3 0 1]\n",
      " [9 7 1 6]\n",
      " [3 9 4 2]]\n",
      "2\n",
      "(3, 4)\n",
      "12\n",
      "int32\n",
      "3\n",
      "<class 'numpy.ndarray'>\n"
     ]
    }
   ],
   "source": [
    "b = np.random.randint(10, size=(3,4))\n",
    "\n",
    "print(b)\n",
    "\n",
    "print(b.ndim)\n",
    "print(b.shape)\n",
    "print(b.size)\n",
    "print(b.dtype)\n",
    "print(len(b))\n",
    "print(type(b))"
   ]
  },
  {
   "cell_type": "code",
   "execution_count": 10,
   "id": "d47943a9",
   "metadata": {
    "scrolled": true
   },
   "outputs": [
    {
     "name": "stdout",
     "output_type": "stream",
     "text": [
      "[[[8 3]\n",
      "  [8 3]\n",
      "  [2 4]]\n",
      "\n",
      " [[3 5]\n",
      "  [4 3]\n",
      "  [0 2]]]\n",
      "3\n",
      "(2, 3, 2)\n",
      "12\n",
      "int32\n",
      "2\n",
      "<class 'numpy.ndarray'>\n"
     ]
    }
   ],
   "source": [
    "c = np.random.randint(10, size=(2,3,2))\n",
    "\n",
    "print(c)\n",
    "\n",
    "print(c.ndim)\n",
    "print(c.shape)\n",
    "print(c.size)\n",
    "print(c.dtype)\n",
    "print(len(c))\n",
    "print(type(c))"
   ]
  },
  {
   "cell_type": "code",
   "execution_count": 36,
   "id": "3defb79d",
   "metadata": {},
   "outputs": [
    {
     "name": "stdout",
     "output_type": "stream",
     "text": [
      "[1, 9, 8, 8, 9, 6]\n",
      "[1, 9, 8, 8, 9, 6]\n",
      "[[6, 3, 5], [3, 5, 4]]\n",
      "[array([6, 3, 5]), array([3, 5, 4])]\n",
      "[[[2, 0, 2, 0], [1, 4, 4, 9], [7, 6, 6, 7]], [[4, 6, 9, 7], [1, 5, 5, 7], [5, 5, 9, 0]]]\n",
      "[array([[2, 0, 2, 0],\n",
      "       [1, 4, 4, 9],\n",
      "       [7, 6, 6, 7]]), array([[4, 6, 9, 7],\n",
      "       [1, 5, 5, 7],\n",
      "       [5, 5, 9, 0]])]\n"
     ]
    }
   ],
   "source": [
    "a = np.random.randint(10, size=6)\n",
    "print(a.tolist())\n",
    "print(list(a))\n",
    "\n",
    "b = np.random.randint(10, size=6).reshape(2,3)\n",
    "print(b.tolist())\n",
    "print(list(b))\n",
    "\n",
    "c = np.random.randint(10, size=24).reshape(2,3,4)\n",
    "print(c.tolist())\n",
    "print(list(c))"
   ]
  },
  {
   "cell_type": "code",
   "execution_count": 43,
   "id": "f66cdcee",
   "metadata": {},
   "outputs": [
    {
     "name": "stdout",
     "output_type": "stream",
     "text": [
      "[1, 9, 8, 8, 9, 6]\n",
      "[[6, 3, 5], [3, 5, 4]]\n",
      "[[[2, 0, 2, 0], [1, 4, 4, 9], [7, 6, 6, 7]], [[4, 6, 9, 7], [1, 5, 5, 7], [5, 5, 9, 0]]]\n"
     ]
    }
   ],
   "source": [
    "def tolist(iterable):\n",
    "    if type(iterable) != np.ndarray:\n",
    "        return iterable\n",
    "    newlist = []\n",
    "    for obj in iterable:\n",
    "        newlist.append(tolist(obj))\n",
    "    return list(newlist)\n",
    "\n",
    "print(tolist(a))\n",
    "print(tolist(b))\n",
    "print(tolist(c))\n"
   ]
  },
  {
   "cell_type": "code",
   "execution_count": null,
   "id": "cf6db5e6",
   "metadata": {},
   "outputs": [],
   "source": []
  }
 ],
 "metadata": {
  "kernelspec": {
   "display_name": "Python 3",
   "language": "python",
   "name": "python3"
  },
  "language_info": {
   "codemirror_mode": {
    "name": "ipython",
    "version": 3
   },
   "file_extension": ".py",
   "mimetype": "text/x-python",
   "name": "python",
   "nbconvert_exporter": "python",
   "pygments_lexer": "ipython3",
   "version": "3.8.8"
  }
 },
 "nbformat": 4,
 "nbformat_minor": 5
}
