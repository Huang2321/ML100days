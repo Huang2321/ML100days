{
 "cells": [
  {
   "cell_type": "code",
   "execution_count": 1,
   "id": "6b100e8d",
   "metadata": {},
   "outputs": [
    {
     "data": {
      "text/plain": [
       "2021Q1    1.0\n",
       "2021Q2    NaN\n",
       "2021Q3    NaN\n",
       "2021Q4    NaN\n",
       "2022Q1    2.0\n",
       "2022Q2    NaN\n",
       "2022Q3    NaN\n",
       "2022Q4    NaN\n",
       "2023Q1    3.0\n",
       "2023Q2    NaN\n",
       "2023Q3    NaN\n",
       "2023Q4    NaN\n",
       "2024Q1    4.0\n",
       "2024Q2    NaN\n",
       "2024Q3    NaN\n",
       "2024Q4    NaN\n",
       "2025Q1    5.0\n",
       "2025Q2    NaN\n",
       "2025Q3    NaN\n",
       "2025Q4    NaN\n",
       "Freq: Q-DEC, dtype: float64"
      ]
     },
     "execution_count": 1,
     "metadata": {},
     "output_type": "execute_result"
    }
   ],
   "source": [
    "#課堂\n",
    "import pandas as pd\n",
    "\n",
    "df = pd.Series([1, 2, 3, 4, 5], index=pd.period_range('2021-01-01', freq='Y', periods=5))\n",
    "df\n",
    "\n",
    "#年轉成季 #運用resample #.asfreq()一定要寫\n",
    "df.resample('Q', convention='start').asfreq()"
   ]
  },
  {
   "cell_type": "code",
   "execution_count": null,
   "id": "cbf74caf",
   "metadata": {},
   "outputs": [],
   "source": [
    "#運用\n",
    "df.shift(2,freq='D') #可以把日期往後延兩天"
   ]
  },
  {
   "cell_type": "code",
   "execution_count": 4,
   "id": "0fb6cb7e",
   "metadata": {},
   "outputs": [
    {
     "data": {
      "text/plain": [
       "2019-01-01     0\n",
       "2019-01-02     1\n",
       "2019-01-03     2\n",
       "2019-01-04     3\n",
       "2019-01-05     4\n",
       "2019-01-06     5\n",
       "2019-01-07     6\n",
       "2019-01-08     7\n",
       "2019-01-09     8\n",
       "2019-01-10     9\n",
       "2019-01-11    10\n",
       "2019-01-12    11\n",
       "2019-01-13    12\n",
       "2019-01-14    13\n",
       "2019-01-15    14\n",
       "2019-01-16    15\n",
       "2019-01-17    16\n",
       "2019-01-18    17\n",
       "2019-01-19    18\n",
       "2019-01-20    19\n",
       "Freq: D, dtype: int64"
      ]
     },
     "execution_count": 4,
     "metadata": {},
     "output_type": "execute_result"
    }
   ],
   "source": [
    "#hw1\n",
    "import numpy as np\n",
    "import pandas as pd\n",
    "index = pd.date_range(\"1/1/2019\", periods=20, freq='D')\n",
    "series = pd.Series(range(20), index=index)\n",
    "series"
   ]
  },
  {
   "cell_type": "code",
   "execution_count": 7,
   "id": "f9dea81c",
   "metadata": {},
   "outputs": [
    {
     "data": {
      "text/plain": [
       "2018-12-31/2019-01-06     0\n",
       "2018-12-31/2019-01-06     1\n",
       "2018-12-31/2019-01-06     2\n",
       "2018-12-31/2019-01-06     3\n",
       "2018-12-31/2019-01-06     4\n",
       "2018-12-31/2019-01-06     5\n",
       "2019-01-07/2019-01-13     6\n",
       "2019-01-07/2019-01-13     7\n",
       "2019-01-07/2019-01-13     8\n",
       "2019-01-07/2019-01-13     9\n",
       "2019-01-07/2019-01-13    10\n",
       "2019-01-07/2019-01-13    11\n",
       "2019-01-07/2019-01-13    12\n",
       "2019-01-14/2019-01-20    13\n",
       "2019-01-14/2019-01-20    14\n",
       "2019-01-14/2019-01-20    15\n",
       "2019-01-14/2019-01-20    16\n",
       "2019-01-14/2019-01-20    17\n",
       "2019-01-14/2019-01-20    18\n",
       "2019-01-14/2019-01-20    19\n",
       "Freq: W-SUN, dtype: int64"
      ]
     },
     "execution_count": 7,
     "metadata": {},
     "output_type": "execute_result"
    }
   ],
   "source": [
    "#hw1 將所有轉為周資料\n",
    "series.to_period('W')"
   ]
  },
  {
   "cell_type": "code",
   "execution_count": 8,
   "id": "f19c4180",
   "metadata": {},
   "outputs": [
    {
     "data": {
      "text/plain": [
       "2019-01-06     2.5\n",
       "2019-01-13     9.0\n",
       "2019-01-20    16.0\n",
       "Freq: W-SUN, dtype: float64"
      ]
     },
     "execution_count": 8,
     "metadata": {},
     "output_type": "execute_result"
    }
   ],
   "source": [
    "#hw2 將周資料的值取平均\n",
    "#resample可以把week特別挑出來\n",
    "series.resample('W').mean()"
   ]
  },
  {
   "cell_type": "code",
   "execution_count": null,
   "id": "72070912",
   "metadata": {},
   "outputs": [],
   "source": []
  }
 ],
 "metadata": {
  "kernelspec": {
   "display_name": "Python 3",
   "language": "python",
   "name": "python3"
  },
  "language_info": {
   "codemirror_mode": {
    "name": "ipython",
    "version": 3
   },
   "file_extension": ".py",
   "mimetype": "text/x-python",
   "name": "python",
   "nbconvert_exporter": "python",
   "pygments_lexer": "ipython3",
   "version": "3.8.8"
  }
 },
 "nbformat": 4,
 "nbformat_minor": 5
}
