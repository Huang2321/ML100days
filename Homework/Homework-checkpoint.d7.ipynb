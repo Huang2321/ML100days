{
 "cells": [
  {
   "cell_type": "code",
   "execution_count": 2,
   "id": "1fb42f7b",
   "metadata": {},
   "outputs": [
    {
     "name": "stdout",
     "output_type": "stream",
     "text": [
      "0\n",
      "1\n",
      "2\n",
      "3\n",
      "4\n",
      "5\n"
     ]
    }
   ],
   "source": [
    "#迭代攤平用法\n",
    "\n",
    "import numpy as np \n",
    "\n",
    "a = np.arange(6).reshape(3, 2)\n",
    "\n",
    "for d in a.flat:\n",
    "    print(d)"
   ]
  },
  {
   "cell_type": "code",
   "execution_count": 4,
   "id": "cbad8a04",
   "metadata": {},
   "outputs": [
    {
     "name": "stdout",
     "output_type": "stream",
     "text": [
      "0\n",
      "1\n",
      "2\n",
      "3\n",
      "4\n",
      "5\n",
      "0\n",
      "1\n",
      "2\n",
      "3\n",
      "4\n",
      "5\n"
     ]
    }
   ],
   "source": [
    "#正確迭代用法_迭代物件\n",
    "import numpy as np \n",
    "\n",
    "a = np.arange(6).reshape(3, 2)\n",
    "\n",
    "for d in np.nditer(a):\n",
    "    print(d)\n",
    "for d in np.nditer(a, order='C'): #C是橫的\n",
    "    print(d)"
   ]
  },
  {
   "cell_type": "code",
   "execution_count": 3,
   "id": "a226e6ca",
   "metadata": {},
   "outputs": [
    {
     "name": "stdout",
     "output_type": "stream",
     "text": [
      "0\n",
      "2\n",
      "4\n",
      "1\n",
      "3\n",
      "5\n"
     ]
    }
   ],
   "source": [
    "import numpy as np \n",
    "\n",
    "a = np.arange(6).reshape(3, 2)\n",
    "\n",
    "for d in np.nditer(a, order='F'): #F是直的\n",
    "    print(d)"
   ]
  },
  {
   "cell_type": "code",
   "execution_count": 16,
   "id": "1394886f",
   "metadata": {},
   "outputs": [],
   "source": [
    "#hw1\n",
    "\n",
    "import numpy as np\n",
    "a = np.random.randint(0,10,1000000).reshape(100,100,100)"
   ]
  },
  {
   "cell_type": "code",
   "execution_count": 17,
   "id": "b81086be",
   "metadata": {},
   "outputs": [
    {
     "name": "stdout",
     "output_type": "stream",
     "text": [
      "136 ns ± 10.5 ns per loop (mean ± std. dev. of 7 runs, 10 loops each)\n"
     ]
    }
   ],
   "source": [
    "#寫法1(迴圈)\n",
    "%timeit -n 10 a=2\n",
    "for i in a:\n",
    "    for j in i:\n",
    "        for z in j:\n",
    "            i = i+1"
   ]
  },
  {
   "cell_type": "code",
   "execution_count": 18,
   "id": "28b1e33f",
   "metadata": {},
   "outputs": [
    {
     "name": "stdout",
     "output_type": "stream",
     "text": [
      "90 ns ± 16.9 ns per loop (mean ± std. dev. of 7 runs, 10 loops each)\n"
     ]
    }
   ],
   "source": [
    "#寫法2(攤平)\n",
    "%timeit -n 10 a=2\n",
    "for i in a.flat:\n",
    "    i = i+1"
   ]
  },
  {
   "cell_type": "code",
   "execution_count": 19,
   "id": "ad0ccd20",
   "metadata": {},
   "outputs": [
    {
     "name": "stdout",
     "output_type": "stream",
     "text": [
      "50 ns ± 13.1 ns per loop (mean ± std. dev. of 7 runs, 10 loops each)\n"
     ]
    }
   ],
   "source": [
    "#寫法3(np.nditer(a))\n",
    "%timeit -n 10 a=2\n",
    "for i in np.nditer(a):\n",
    "    i = i+1"
   ]
  },
  {
   "cell_type": "code",
   "execution_count": 25,
   "id": "168ca1fd",
   "metadata": {},
   "outputs": [
    {
     "name": "stdout",
     "output_type": "stream",
     "text": [
      "[4 8 1 6 2 7 1 6 0 1 0 0 0 0 0 4 1 8 0 7 8 5 3 0 6 0 3 6 0 6 5 4 2 9 3 5 3\n",
      " 5 7 3 1 2 3 4 3 6 2 5 4 7]\n"
     ]
    }
   ],
   "source": [
    "#hw2\n",
    "\n",
    "a = np.random.randint(0,10,50)\n",
    "print(a)"
   ]
  },
  {
   "cell_type": "code",
   "execution_count": 26,
   "id": "63a4318f",
   "metadata": {},
   "outputs": [
    {
     "name": "stdout",
     "output_type": "stream",
     "text": [
      "0\n"
     ]
    }
   ],
   "source": [
    "b = (np.bincount(a).argmax())\n",
    "print(b)"
   ]
  },
  {
   "cell_type": "code",
   "execution_count": 27,
   "id": "598de34c",
   "metadata": {},
   "outputs": [
    {
     "data": {
      "text/plain": [
       "array([ 8, 10, 11, 12, 13, 14, 18, 23, 25, 28], dtype=int64)"
      ]
     },
     "execution_count": 27,
     "metadata": {},
     "output_type": "execute_result"
    }
   ],
   "source": [
    "np.where(a == b)[0]"
   ]
  },
  {
   "cell_type": "code",
   "execution_count": 30,
   "id": "ae5b33c2",
   "metadata": {},
   "outputs": [
    {
     "name": "stdout",
     "output_type": "stream",
     "text": [
      "[9, 6, 6, 4, 4, 3]\n",
      "[9, 6, 6, 4, 4, 3]\n",
      "[[1, 6, 2], [1, 0, 9]]\n",
      "[array([1, 6, 2]), array([1, 0, 9])]\n",
      "[[[2, 5, 8], [0, 9, 3], [3, 3, 9], [9, 5, 8]], [[0, 6, 5], [8, 6, 3], [2, 5, 5], [0, 2, 4]]]\n",
      "[array([[2, 5, 8],\n",
      "       [0, 9, 3],\n",
      "       [3, 3, 9],\n",
      "       [9, 5, 8]]), array([[0, 6, 5],\n",
      "       [8, 6, 3],\n",
      "       [2, 5, 5],\n",
      "       [0, 2, 4]])]\n"
     ]
    }
   ],
   "source": [
    "#hw3_做法1\n",
    "a = np.random.randint(10, size=6)\n",
    "print(a.tolist()) #tolist才會做巢狀的轉換\n",
    "print(list(a)) #list只會做一層的轉換\n",
    "\n",
    "b = np.random.randint(10,size=(2,3))\n",
    "print(b.tolist())\n",
    "print(list(b)) \n",
    "\n",
    "c = np.random.randint(10,size=(2, 4, 3))\n",
    "print(c.tolist())\n",
    "print(list(c))"
   ]
  },
  {
   "cell_type": "code",
   "execution_count": 31,
   "id": "e2ecef8e",
   "metadata": {},
   "outputs": [
    {
     "name": "stdout",
     "output_type": "stream",
     "text": [
      "[9 6 6 4 4 3]\n",
      "[[1 6 2]\n",
      " [1 0 9]]\n",
      "[[[2 5 8]\n",
      "  [0 9 3]\n",
      "  [3 3 9]\n",
      "  [9 5 8]]\n",
      "\n",
      " [[0 6 5]\n",
      "  [8 6 3]\n",
      "  [2 5 5]\n",
      "  [0 2 4]]]\n"
     ]
    }
   ],
   "source": [
    "#hw3_做法2\n",
    "def tolist(iterable):\n",
    "    if type(iterable) != np.array:\n",
    "     return iterable\n",
    "    return[tolist(obj) for obj in iterable]\n",
    "\n",
    "print(tolist(a))\n",
    "print(tolist(b))\n",
    "print(tolist(c))\n"
   ]
  },
  {
   "cell_type": "code",
   "execution_count": null,
   "id": "2033029e",
   "metadata": {},
   "outputs": [],
   "source": []
  }
 ],
 "metadata": {
  "kernelspec": {
   "display_name": "Python 3",
   "language": "python",
   "name": "python3"
  },
  "language_info": {
   "codemirror_mode": {
    "name": "ipython",
    "version": 3
   },
   "file_extension": ".py",
   "mimetype": "text/x-python",
   "name": "python",
   "nbconvert_exporter": "python",
   "pygments_lexer": "ipython3",
   "version": "3.8.8"
  }
 },
 "nbformat": 4,
 "nbformat_minor": 5
}
