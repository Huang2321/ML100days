{
 "cells": [
  {
   "cell_type": "code",
   "execution_count": null,
   "id": "9fcb7959",
   "metadata": {},
   "outputs": [],
   "source": [
    "#Q1 哪一個問題不適合用資料科學解決？\n",
    "#挑選 Mr./Ms. Right"
   ]
  },
  {
   "cell_type": "code",
   "execution_count": null,
   "id": "38a81f12",
   "metadata": {},
   "outputs": [],
   "source": [
    "#Q2：以你的角度來分析，為什麼這樣的問題，較不適合用資料來解決？\n",
    "#無法量化\n",
    "#一個問題果無法用統一標準量化，較無法使用資料科學的方法來做決策"
   ]
  }
 ],
 "metadata": {
  "kernelspec": {
   "display_name": "Python 3",
   "language": "python",
   "name": "python3"
  },
  "language_info": {
   "codemirror_mode": {
    "name": "ipython",
    "version": 3
   },
   "file_extension": ".py",
   "mimetype": "text/x-python",
   "name": "python",
   "nbconvert_exporter": "python",
   "pygments_lexer": "ipython3",
   "version": "3.8.8"
  }
 },
 "nbformat": 4,
 "nbformat_minor": 5
}
