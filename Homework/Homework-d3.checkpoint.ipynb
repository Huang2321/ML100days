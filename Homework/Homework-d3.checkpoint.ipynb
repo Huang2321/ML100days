{
 "cells": [
  {
   "cell_type": "code",
   "execution_count": 6,
   "id": "79e435ec",
   "metadata": {},
   "outputs": [
    {
     "name": "stdout",
     "output_type": "stream",
     "text": [
      "[[0. 0. 0.]\n",
      " [0. 0. 0.]]\n",
      "[[0. 0. 0.]\n",
      " [0. 0. 0.]]\n"
     ]
    }
   ],
   "source": [
    "import numpy as np #要記得先import\n",
    "\n",
    "print(np.zeros((2,3)))\n",
    "print(np.empty((2,3))) #要有兩個括號"
   ]
  },
  {
   "cell_type": "code",
   "execution_count": 9,
   "id": "2041d34d",
   "metadata": {},
   "outputs": [
    {
     "name": "stdout",
     "output_type": "stream",
     "text": [
      "[[ 0.57822641 -1.04165524]\n",
      " [-0.90683721  0.73520027]\n",
      " [ 1.5967003  -0.74330821]]\n",
      "[[0.69902276 0.09128023]\n",
      " [0.88244821 0.6439808 ]\n",
      " [0.1080252  0.32125981]]\n",
      "[[3 7]\n",
      " [5 8]\n",
      " [0 0]]\n"
     ]
    }
   ],
   "source": [
    "from numpy.random import default_rng\n",
    "rng = default_rng()\n",
    "\n",
    "normal = rng.standard_normal((3,2))\n",
    "random = rng.random((3,2))\n",
    "integers = rng.integers(0, 10, size=(3,2))\n",
    "\n",
    "print(normal)\n",
    "print(random)\n",
    "print(integers)\n"
   ]
  },
  {
   "cell_type": "code",
   "execution_count": 10,
   "id": "5fbf38ce",
   "metadata": {},
   "outputs": [
    {
     "name": "stdout",
     "output_type": "stream",
     "text": [
      "[[61.9791852  82.62440979 48.72312818]\n",
      " [13.32529601 99.42908215 75.29875602]]\n"
     ]
    }
   ],
   "source": [
    "import numpy as np\n",
    "\n",
    "a = np.random.rand(2, 3)\n",
    "a = a*100\n",
    "\n",
    "print(a)"
   ]
  },
  {
   "cell_type": "code",
   "execution_count": 11,
   "id": "e66b4b24",
   "metadata": {},
   "outputs": [
    {
     "name": "stdout",
     "output_type": "stream",
     "text": [
      "[[62. 83. 49.]\n",
      " [13. 99. 75.]]\n",
      "[[62. 83. 49.]\n",
      " [13. 99. 75.]]\n"
     ]
    }
   ],
   "source": [
    "print(a.round()) #利用這兩個寫法可以小數取整數\n",
    "print(np.round(a))"
   ]
  },
  {
   "cell_type": "code",
   "execution_count": 15,
   "id": "b6a55702",
   "metadata": {},
   "outputs": [
    {
     "name": "stdout",
     "output_type": "stream",
     "text": [
      "[[ 5.85538583 16.67758871 11.91126115]\n",
      " [ 4.47070317  7.68227686 14.45018424]]\n",
      "[[ 5. 16. 11.]\n",
      " [ 4.  7. 14.]]\n",
      "[[35. 46. 41.]\n",
      " [34. 37. 44.]]\n"
     ]
    }
   ],
   "source": [
    "m = 30 #讓他在m到n之間的寫法\n",
    "n = 50\n",
    "\n",
    "a = np.random.rand(2, 3)*(n-m)\n",
    "b = a\n",
    "\n",
    "print(b)\n",
    "print((a-b%1)) #b除以1取餘數=小數點部分\n",
    "print((a-b%1)+m)"
   ]
  },
  {
   "cell_type": "code",
   "execution_count": null,
   "id": "94840452",
   "metadata": {},
   "outputs": [],
   "source": []
  }
 ],
 "metadata": {
  "kernelspec": {
   "display_name": "Python 3",
   "language": "python",
   "name": "python3"
  },
  "language_info": {
   "codemirror_mode": {
    "name": "ipython",
    "version": 3
   },
   "file_extension": ".py",
   "mimetype": "text/x-python",
   "name": "python",
   "nbconvert_exporter": "python",
   "pygments_lexer": "ipython3",
   "version": "3.8.8"
  }
 },
 "nbformat": 4,
 "nbformat_minor": 5
}
