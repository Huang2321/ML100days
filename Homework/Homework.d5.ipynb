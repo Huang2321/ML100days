{
 "cells": [
  {
   "cell_type": "code",
   "execution_count": 5,
   "id": "ef990565",
   "metadata": {},
   "outputs": [
    {
     "name": "stdout",
     "output_type": "stream",
     "text": [
      "[ 0  1  2 -3 -4 -5 -6 -7  8  9 10]\n"
     ]
    }
   ],
   "source": [
    "import numpy as np\n",
    "\n",
    "a = np.arange(11) #製作一個1到11一維陣列的寫法 #是arange not arrange!!\n",
    "#怎麼製作一個1*11陣列呢???\n",
    "a[(3 <= a) & (a < 8 )] *= -1\n",
    "\n",
    "print(a)"
   ]
  },
  {
   "cell_type": "code",
   "execution_count": 7,
   "id": "c5dfa537",
   "metadata": {},
   "outputs": [
    {
     "name": "stdout",
     "output_type": "stream",
     "text": [
      "[[0.97803427 0.74555614 0.15931675 0.2156758  0.17366804]\n",
      " [0.82990961 0.49691177 0.40262037 0.03548851 0.34878584]]\n",
      "[0.97803427 0.74555614 0.82990961]\n",
      "3\n"
     ]
    }
   ],
   "source": [
    "a = np.random.rand(2,5)\n",
    "print(a)\n",
    "print(a[a>0.5]) #取出陣列中，大於0.5的寫法\n",
    "print(a[a>0.5].size) #要看有幾個大於0.5->用size"
   ]
  },
  {
   "cell_type": "code",
   "execution_count": null,
   "id": "152f3285",
   "metadata": {},
   "outputs": [],
   "source": []
  }
 ],
 "metadata": {
  "kernelspec": {
   "display_name": "Python 3",
   "language": "python",
   "name": "python3"
  },
  "language_info": {
   "codemirror_mode": {
    "name": "ipython",
    "version": 3
   },
   "file_extension": ".py",
   "mimetype": "text/x-python",
   "name": "python",
   "nbconvert_exporter": "python",
   "pygments_lexer": "ipython3",
   "version": "3.8.8"
  }
 },
 "nbformat": 4,
 "nbformat_minor": 5
}
