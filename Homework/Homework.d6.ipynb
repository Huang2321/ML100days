{
 "cells": [
  {
   "cell_type": "code",
   "execution_count": 1,
   "id": "76a3e086",
   "metadata": {},
   "outputs": [],
   "source": [
    "import numpy as np \n",
    "\n",
    "b = np.arange(12).reshape(3, 4)\n",
    "# array([[ 0,  1,  2,  3],\n",
    "#        [ 4,  5,  6,  7],\n",
    "#        [ 8,  9, 10, 11]])"
   ]
  },
  {
   "cell_type": "code",
   "execution_count": 2,
   "id": "f4ba5980",
   "metadata": {},
   "outputs": [
    {
     "name": "stdout",
     "output_type": "stream",
     "text": [
      "66\n",
      "[12 15 18 21]\n",
      "[ 6 22 38]\n"
     ]
    }
   ],
   "source": [
    "print(b.sum())\n",
    "# 66\n",
    "\n",
    "print(b.sum(axis=0)) #axis=0，直的\n",
    "# array([12, 15, 18, 21]) \n",
    "\n",
    "print(b.sum(axis=1)) #axis=1，橫的\n",
    "# array([6, 22, 38])"
   ]
  },
  {
   "cell_type": "code",
   "execution_count": 3,
   "id": "50514e21",
   "metadata": {},
   "outputs": [
    {
     "name": "stdout",
     "output_type": "stream",
     "text": [
      "[[0 1]\n",
      " [2 3]\n",
      " [4 5]]\n",
      "[0 1 2 3 4 5]\n"
     ]
    }
   ],
   "source": [
    "import numpy as np \n",
    "\n",
    "a = np.arange(6)\n",
    "# [0, 1, 2, 3, 4, 5]\n",
    "\n",
    "print(a.reshape(3, 2))\n",
    "print(a)"
   ]
  },
  {
   "cell_type": "code",
   "execution_count": 4,
   "id": "094256df",
   "metadata": {},
   "outputs": [
    {
     "name": "stdout",
     "output_type": "stream",
     "text": [
      "None\n",
      "[[0 1]\n",
      " [2 3]\n",
      " [4 5]]\n"
     ]
    }
   ],
   "source": [
    "import numpy as np \n",
    "\n",
    "a = np.arange(6)\n",
    "# [0, 1, 2, 3, 4, 5]\n",
    "\n",
    "print(a.resize((3, 2)))\n",
    "print(a) #reshape, resize上下兩者不同!!!!"
   ]
  },
  {
   "cell_type": "code",
   "execution_count": 8,
   "id": "976cd908",
   "metadata": {},
   "outputs": [
    {
     "name": "stdout",
     "output_type": "stream",
     "text": [
      "[0 1 2 3 4 5]\n",
      "[0 1 2 3 4 5]\n",
      "<numpy.flatiter object at 0x000001F931DA3B40>\n",
      "[0, 1, 2, 3, 4, 5]\n"
     ]
    }
   ],
   "source": [
    "import numpy as np \n",
    "\n",
    "a = np.arange(6).reshape((3, 2))\n",
    "\n",
    "print(a.ravel() ) #將多維陣列轉換成一維的方法:ravel(), flatten()\n",
    "print(a.flatten())\n",
    "print(a.flat)\n",
    "print(list(a.flat)) #要改成list才看的出來"
   ]
  },
  {
   "cell_type": "code",
   "execution_count": 22,
   "id": "9089a1c7",
   "metadata": {},
   "outputs": [
    {
     "name": "stdout",
     "output_type": "stream",
     "text": [
      "[[0.3269617  0.85125732 0.70423349 0.59529217 0.19222298]\n",
      " [0.92245704 0.61064822 0.80894811 0.55144201 0.52543658]\n",
      " [0.28907459 0.9027531  0.60991777 0.14094544 0.41767267]\n",
      " [0.15227251 0.75330728 0.22696496 0.95594064 0.92238024]\n",
      " [0.01460216 0.827968   0.11127082 0.69547497 0.53902145]]\n",
      "[[ 0.29708437  0.82138     0.67435616  0.56541484  0.16234565]\n",
      " [ 0.89257971  0.5807709   0.77907078  0.52156469  0.49555925]\n",
      " [ 0.25919726  0.87287577  0.58004044  0.11106811  0.38779534]\n",
      " [ 0.12239518  0.72342996  0.19708764  0.92606331  0.89250292]\n",
      " [-0.01527517  0.79809068  0.08139349  0.66559764  0.50914412]]\n"
     ]
    }
   ],
   "source": [
    "#2\n",
    "import numpy as np\n",
    "\n",
    "a = np.random.random((5,5)) #製作一個隨機矩陣的方法\n",
    "print(a)\n",
    "print(a-a.min()/ a.max()-a.min()) #正規化的意思是數據在0-1之間"
   ]
  },
  {
   "cell_type": "code",
   "execution_count": 14,
   "id": "18f19401",
   "metadata": {},
   "outputs": [
    {
     "data": {
      "text/plain": [
       "array([0, 1, 2, 3, 4, 5, 6, 7, 8, 9])"
      ]
     },
     "execution_count": 14,
     "metadata": {},
     "output_type": "execute_result"
    }
   ],
   "source": [
    "np.arange(10)\n"
   ]
  },
  {
   "cell_type": "code",
   "execution_count": 31,
   "id": "f55ab3b2",
   "metadata": {},
   "outputs": [
    {
     "name": "stdout",
     "output_type": "stream",
     "text": [
      "[ 0.09291209  0.41473264  0.30519878  0.84254346  0.53986987 -1.\n",
      "  0.17793936  0.37424424  0.36810209  0.59490935]\n",
      "0.8425434570047847\n"
     ]
    }
   ],
   "source": [
    "#3\n",
    "a = np.random.random(10)\n",
    "a[a.argmax()]= -1 \n",
    "\n",
    "print(a)\n",
    "print(np.nanmax(a)) #取出最大值"
   ]
  },
  {
   "cell_type": "code",
   "execution_count": null,
   "id": "aae2919a",
   "metadata": {},
   "outputs": [],
   "source": []
  }
 ],
 "metadata": {
  "kernelspec": {
   "display_name": "Python 3",
   "language": "python",
   "name": "python3"
  },
  "language_info": {
   "codemirror_mode": {
    "name": "ipython",
    "version": 3
   },
   "file_extension": ".py",
   "mimetype": "text/x-python",
   "name": "python",
   "nbconvert_exporter": "python",
   "pygments_lexer": "ipython3",
   "version": "3.8.8"
  }
 },
 "nbformat": 4,
 "nbformat_minor": 5
}
