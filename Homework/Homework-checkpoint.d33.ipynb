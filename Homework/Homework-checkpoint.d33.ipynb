{
 "cells": [
  {
   "cell_type": "code",
   "execution_count": null,
   "id": "826a8f9d",
   "metadata": {},
   "outputs": [],
   "source": [
    "#這題我還是不會!!!"
   ]
  },
  {
   "cell_type": "code",
   "execution_count": null,
   "id": "63da9e54",
   "metadata": {},
   "outputs": [],
   "source": [
    "#Q1  假設 x̄ > 2，拒絕 H0，α 會變大／變小？β 會變大／變小？\n",
    "#alpha變小，beta變大"
   ]
  },
  {
   "cell_type": "code",
   "execution_count": null,
   "id": "da89495a",
   "metadata": {},
   "outputs": [],
   "source": [
    "#Q2 假設 x̄ > 0.2，拒絕 Ho，會變大／變小？β 會變大/變小？\n",
    "#alpha變大，beta變小c"
   ]
  },
  {
   "cell_type": "code",
   "execution_count": null,
   "id": "3581f1f4",
   "metadata": {},
   "outputs": [],
   "source": [
    "#Q3\n",
    "#alpha變大則beta會變小；反之。兩個必成相反方向變化"
   ]
  }
 ],
 "metadata": {
  "kernelspec": {
   "display_name": "Python 3",
   "language": "python",
   "name": "python3"
  },
  "language_info": {
   "codemirror_mode": {
    "name": "ipython",
    "version": 3
   },
   "file_extension": ".py",
   "mimetype": "text/x-python",
   "name": "python",
   "nbconvert_exporter": "python",
   "pygments_lexer": "ipython3",
   "version": "3.8.8"
  }
 },
 "nbformat": 4,
 "nbformat_minor": 5
}
