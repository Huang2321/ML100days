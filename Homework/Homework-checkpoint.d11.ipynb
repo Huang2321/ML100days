{
 "cells": [
  {
   "cell_type": "code",
   "execution_count": 10,
   "id": "652e4cac",
   "metadata": {},
   "outputs": [
    {
     "name": "stdout",
     "output_type": "stream",
     "text": [
      "  animal  age  visits priority\n",
      "a    cat  2.5       1      yes\n",
      "b    cat  3.0       3      yes\n",
      "c  snake  0.5       2       no\n",
      "d    dog  NaN       3      yes\n",
      "e    dog  5.0       2       no\n",
      "f    cat  2.0       3       no\n",
      "g  snake  4.5       1       no\n",
      "h    cat  NaN       1      yes\n",
      "i    dog  7.0       2       no\n",
      "j    dog  3.0       1       no\n",
      "3.4375\n",
      "  animal  age  visits priority\n",
      "a    cat  2.5       1      yes\n",
      "g  snake  4.5       1       no\n",
      "h    cat  NaN       1      yes\n",
      "j    dog  3.0       1       no\n",
      "c  snake  0.5       2       no\n",
      "e    dog  5.0       2       no\n",
      "i    dog  7.0       2       no\n",
      "b    cat  3.0       3      yes\n",
      "d    dog  NaN       3      yes\n",
      "f    cat  2.0       3       no\n"
     ]
    }
   ],
   "source": [
    "#hw1\n",
    "data = {\n",
    "    'animal': ['cat', 'cat', 'snake', 'dog', 'dog', 'cat', 'snake', 'cat', 'dog', 'dog'],\n",
    "    'age': [2.5, 3, 0.5, np.nan, 5, 2, 4.5, np.nan, 7, 3],\n",
    "    'visits': [1, 3, 2, 3, 2, 3, 1, 1, 2, 1],\n",
    "    'priority': ['yes', 'yes', 'no', 'yes', 'no', 'no', 'no', 'yes', 'no', 'no']\n",
    "}\n",
    "\n",
    "labels = ['a', 'b', 'c', 'd', 'e', 'f', 'g', 'h', 'i', 'j']\n",
    "df = pd.DataFrame(data, index=labels)\n",
    "print(df)\n",
    "print(df.age.mean())\n",
    "print(df.sort_values(by='visits'))"
   ]
  },
  {
   "cell_type": "code",
   "execution_count": 24,
   "id": "9fe985ac",
   "metadata": {},
   "outputs": [
    {
     "name": "stdout",
     "output_type": "stream",
     "text": [
      "          0         1         2\n",
      "0  0.480467  0.707627  0.826667\n",
      "1  0.772869  0.813533  0.861991\n",
      "2  0.086119  0.857413  0.861095\n",
      "3  0.378612  0.627689  0.778119\n",
      "4  0.608495  0.548012  0.914866\n",
      "          0         1         2\n",
      "0  0.015155 -0.003228 -0.021880\n",
      "1  0.307556  0.102679  0.013444\n",
      "2 -0.379193  0.146559  0.012547\n",
      "3 -0.086701 -0.083166 -0.070429\n",
      "4  0.143183 -0.162843  0.066319\n",
      "          0         1         2\n",
      "0  0.671587  0.671587  0.671587\n",
      "1  0.816131  0.816131  0.816131\n",
      "2  0.601542  0.601542  0.601542\n",
      "3  0.594807  0.594807  0.594807\n",
      "4  0.690458  0.690458  0.690458\n",
      "          0         1         2   3   4\n",
      "0 -0.191120 -0.108505  0.225125 NaN NaN\n",
      "1  0.101282 -0.002598  0.260449 NaN NaN\n",
      "2 -0.585468  0.041282  0.259552 NaN NaN\n",
      "3 -0.292975 -0.188442  0.176577 NaN NaN\n",
      "4 -0.063092 -0.268119  0.313324 NaN NaN\n"
     ]
    }
   ],
   "source": [
    "#hw2\n",
    "import numpy as np\n",
    "import pandas as pd\n",
    "\n",
    "df = pd.DataFrame(np.random.random(size=(5, 3)))\n",
    "print(df)\n",
    "print(df-df.mean())\n",
    "print(df-df.sub(df.mean(axis=1), axis=0)) #sub是什麼???\n",
    "print(df-df.mean(axis=1)) #pd 的廣播特性，不能加"
   ]
  },
  {
   "cell_type": "code",
   "execution_count": 23,
   "id": "835a7962",
   "metadata": {},
   "outputs": [
    {
     "name": "stdout",
     "output_type": "stream",
     "text": [
      "0    1.370434\n",
      "1    1.318207\n",
      "2    1.406983\n",
      "3    1.241576\n",
      "4    1.369119\n",
      "dtype: float64\n",
      "1.5317051405337239\n",
      "1\n",
      "3\n"
     ]
    }
   ],
   "source": [
    "#hw3\n",
    "print(df.sum(axis=1))\n",
    "print(df.sum().min())\n",
    "print(df.sum().argmin()) #本提要的是這個!!! argmin\n",
    "print(df.sum(axis = 1).argmin())#本提要的是這個!!! argmin"
   ]
  },
  {
   "cell_type": "code",
   "execution_count": null,
   "id": "cb02c9f7",
   "metadata": {},
   "outputs": [],
   "source": []
  }
 ],
 "metadata": {
  "kernelspec": {
   "display_name": "Python 3",
   "language": "python",
   "name": "python3"
  },
  "language_info": {
   "codemirror_mode": {
    "name": "ipython",
    "version": 3
   },
   "file_extension": ".py",
   "mimetype": "text/x-python",
   "name": "python",
   "nbconvert_exporter": "python",
   "pygments_lexer": "ipython3",
   "version": "3.8.8"
  }
 },
 "nbformat": 4,
 "nbformat_minor": 5
}
