{
 "cells": [
  {
   "cell_type": "code",
   "execution_count": null,
   "id": "7d797381",
   "metadata": {},
   "outputs": [],
   "source": [
    "#hw1\n",
    "\n",
    "#資料型態來說\n",
    "\n",
    "#1.數值\n",
    "#2.3.Series\n",
    "#4.DataFrame"
   ]
  },
  {
   "cell_type": "code",
   "execution_count": 9,
   "id": "c86acc13",
   "metadata": {},
   "outputs": [
    {
     "name": "stdout",
     "output_type": "stream",
     "text": [
      "       co11      co12      co13\n",
      "0 -0.962451 -0.572323 -0.865834\n",
      "1  0.089102 -1.926187  0.169292\n",
      "2  0.962133 -0.063629  1.130658\n",
      "3  1.051656 -0.903726  1.031860\n",
      "4 -0.738733 -0.377578 -1.255410\n",
      "5 -1.230718  0.385472 -0.428196\n",
      "       co11      co12      co13\n",
      "0 -0.962451 -0.572323 -0.865834\n",
      "1  0.089102 -1.926187  0.169292\n",
      "2  0.962133 -0.063629  1.130658\n",
      "       co11      co12      co13\n",
      "0 -0.962451 -0.572323 -0.865834\n",
      "2  0.962133 -0.063629  1.130658\n",
      "4 -0.738733 -0.377578 -1.255410\n",
      "       co12      co13\n",
      "0 -0.572323 -0.865834\n",
      "1 -1.926187  0.169292\n",
      "2 -0.063629  1.130658\n",
      "3 -0.903726  1.031860\n",
      "4 -0.377578 -1.255410\n",
      "5  0.385472 -0.428196\n",
      "       co11      co13\n",
      "0 -0.962451 -0.865834\n",
      "1  0.089102  0.169292\n",
      "2  0.962133  1.130658\n",
      "3  1.051656  1.031860\n",
      "4 -0.738733 -1.255410\n",
      "5 -1.230718 -0.428196\n"
     ]
    }
   ],
   "source": [
    "#hw2\n",
    "import numpy as np\n",
    "import pandas as pd\n",
    "\n",
    "df = pd.DataFrame(np.random.randn(6,3), columns=['co11', 'co12', 'co13']) #randn是什麼?\n",
    "df\n",
    "print(df)\n",
    "\n",
    "print(df[0:3])\n",
    "\n",
    "print(df[0:6:2])\n",
    "#select the last 2 columns\n",
    "print(df.iloc[:, -2:]) #-2後要有:\n",
    "print(df.iloc[:,::2])"
   ]
  },
  {
   "cell_type": "code",
   "execution_count": 16,
   "id": "d2578fef",
   "metadata": {},
   "outputs": [
    {
     "name": "stdout",
     "output_type": "stream",
     "text": [
      "     0   1   2   3\n",
      "0   38  18  33  25\n",
      "1   32  39  22  18\n",
      "2   21  12  25  27\n",
      "3   21  19  20  36\n",
      "4   21  14  21  15\n",
      "5   31  30  35  14\n",
      "6   19  21  30  11\n",
      "7   23  23  34  21\n",
      "8   12  21  29  16\n",
      "9   13  17  31  36\n",
      "10  35  21  23  11\n",
      "11  20  18  39  20\n",
      "12  17  23  26  21\n",
      "13  29  24  16  29\n",
      "14  39  28  32  18\n",
      "     0   1   2   3\n",
      "0   38  18  33  25\n",
      "1   32  39  22  18\n",
      "2   21  12  25  27\n",
      "3   21  19  20  36\n",
      "4   21  14  21  15\n",
      "5   31  30  35  14\n",
      "7   23  23  34  21\n",
      "10  35  21  23  11\n",
      "13  29  24  16  29\n",
      "14  39  28  32  18\n",
      "     0   1   2   3\n",
      "0   38  18  33  25\n",
      "1   32  39  22  18\n",
      "5   31  30  35  14\n",
      "10  35  21  23  11\n",
      "13  29  24  16  29\n",
      "14  39  28  32  18\n",
      "     0   1   2   3\n",
      "1   32  39  22  18\n",
      "2   21  12  25  27\n",
      "3   21  19  20  36\n",
      "4   21  14  21  15\n",
      "6   19  21  30  11\n",
      "7   23  23  34  21\n",
      "8   12  21  29  16\n",
      "9   13  17  31  36\n",
      "11  20  18  39  20\n",
      "12  17  23  26  21\n",
      "13  29  24  16  29\n",
      "     0   1   2   3\n",
      "0   38  18  33  25\n",
      "1   32  39  22  18\n",
      "5   31  30  35  14\n",
      "7   23  23  34  21\n",
      "14  39  28  32  18\n"
     ]
    }
   ],
   "source": [
    "#hw3\n",
    "import numpy as np\n",
    "import pandas as pd\n",
    "\n",
    "df = pd.DataFrame(np.random.randint(10, 40, 60).reshape(-1, 4))\n",
    "print(df)\n",
    "\n",
    "print(df[df[0] > 20]) #不用'0'\n",
    "print(df[df[0] + df[1] > 50]) #第0列+第一列要方開寫\n",
    "print(df[(df[0] < 30) | (df[1] > 30)]) #|=or #超多()[]要搞清楚\n",
    "print(df[df.sum(axis=1) > 100]) #好難@@"
   ]
  },
  {
   "cell_type": "code",
   "execution_count": null,
   "id": "fcd2d900",
   "metadata": {},
   "outputs": [],
   "source": []
  }
 ],
 "metadata": {
  "kernelspec": {
   "display_name": "Python 3",
   "language": "python",
   "name": "python3"
  },
  "language_info": {
   "codemirror_mode": {
    "name": "ipython",
    "version": 3
   },
   "file_extension": ".py",
   "mimetype": "text/x-python",
   "name": "python",
   "nbconvert_exporter": "python",
   "pygments_lexer": "ipython3",
   "version": "3.8.8"
  }
 },
 "nbformat": 4,
 "nbformat_minor": 5
}
