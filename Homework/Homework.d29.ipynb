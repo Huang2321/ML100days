{
 "cells": [
  {
   "cell_type": "code",
   "execution_count": null,
   "id": "6bff609e",
   "metadata": {},
   "outputs": [],
   "source": [
    "#hw1\n",
    "#超幾何分配\n"
   ]
  },
  {
   "cell_type": "code",
   "execution_count": 5,
   "id": "eae7c5af",
   "metadata": {},
   "outputs": [
    {
     "name": "stdout",
     "output_type": "stream",
     "text": [
      "大樂透中獎機率:7.15e-08\n"
     ]
    }
   ],
   "source": [
    "#hw2\n",
    "import numpy as np\n",
    "from scipy import stats\n",
    "N=49\n",
    "K=6\n",
    "n=6\n",
    "x=6\n",
    "\n",
    "prob = stats.hypergeom.pmf(x, N, K, n)\n",
    "print(f'大樂透中獎機率:{prob.round(10)}')\n"
   ]
  },
  {
   "cell_type": "code",
   "execution_count": null,
   "id": "4a123ae1",
   "metadata": {},
   "outputs": [],
   "source": [
    "#hw3\n",
    "#機率相同"
   ]
  }
 ],
 "metadata": {
  "kernelspec": {
   "display_name": "Python 3",
   "language": "python",
   "name": "python3"
  },
  "language_info": {
   "codemirror_mode": {
    "name": "ipython",
    "version": 3
   },
   "file_extension": ".py",
   "mimetype": "text/x-python",
   "name": "python",
   "nbconvert_exporter": "python",
   "pygments_lexer": "ipython3",
   "version": "3.8.8"
  }
 },
 "nbformat": 4,
 "nbformat_minor": 5
}
