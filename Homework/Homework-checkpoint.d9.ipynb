{
 "cells": [
  {
   "cell_type": "code",
   "execution_count": 11,
   "id": "e01dd06f",
   "metadata": {},
   "outputs": [
    {
     "name": "stdout",
     "output_type": "stream",
     "text": [
      "   Apples  Bananas\n",
      "0      30       21\n"
     ]
    }
   ],
   "source": [
    "#hw1-1_作法1\n",
    "import pandas as pd\n",
    "\n",
    "df = pd.DataFrame([[30, 21]], columns=['Apples', 'Bananas']) #[[30, 21]]記得!這個一定要兩個[[]]\n",
    "print(df)"
   ]
  },
  {
   "cell_type": "code",
   "execution_count": 10,
   "id": "04da8a18",
   "metadata": {},
   "outputs": [
    {
     "name": "stdout",
     "output_type": "stream",
     "text": [
      "  Apples Bananas\n",
      "0     30      21\n"
     ]
    }
   ],
   "source": [
    "#hw1-1_作法2\n",
    "import pandas as pd\n",
    "\n",
    "df = pd.DataFrame({\n",
    "   'Apples':['30'],\n",
    "    'Bananas':['21']\n",
    "})\n",
    "print(df)"
   ]
  },
  {
   "cell_type": "code",
   "execution_count": 6,
   "id": "12efd486",
   "metadata": {},
   "outputs": [
    {
     "name": "stdout",
     "output_type": "stream",
     "text": [
      "            Apples  Bananas\n",
      "2017 Sales      35       21\n",
      "2018 Sales      32       34\n"
     ]
    }
   ],
   "source": [
    "#hw1-2_做法2\n",
    "import pandas as pd\n",
    "\n",
    "df = pd.DataFrame([[35, 21], [32, 34]], index=['2017 Sales', '2018 Sales'], columns=['Apples', 'Bananas'])\n",
    "print(df)"
   ]
  },
  {
   "cell_type": "code",
   "execution_count": 3,
   "id": "fc910a62",
   "metadata": {},
   "outputs": [
    {
     "name": "stdout",
     "output_type": "stream",
     "text": [
      "     city  visitors weekdays\n",
      "0  Austin       139      Sun\n",
      "1  Dallas       237      Sun\n",
      "2  Austin       326      Mon\n",
      "3  Dallas       456      Mon\n"
     ]
    }
   ],
   "source": [
    "#hw2\n",
    "import pandas as pd\n",
    "a = [\n",
    "    ['Austin', 139, 'Sun'], \n",
    "    ['Dallas', 237, 'Sun'], \n",
    "    ['Austin', 326, 'Mon'],\n",
    "    ['Dallas', 456,'Mon']\n",
    "]\n",
    "df = pd.DataFrame(a, columns=['city', 'visitors', 'weekdays']) #轉換完再把columns加上去\n",
    "print(df)"
   ]
  },
  {
   "cell_type": "code",
   "execution_count": 5,
   "id": "d48557e8",
   "metadata": {},
   "outputs": [
    {
     "name": "stdout",
     "output_type": "stream",
     "text": [
      "Sun 188.0\n",
      "Mon 391.0\n"
     ]
    }
   ],
   "source": [
    "#hw3\n",
    "for b in set(df['weekdays']):\n",
    "    print(b, df[df['weekdays'] == b]['visitors'].mean()) #好難 不會"
   ]
  },
  {
   "cell_type": "code",
   "execution_count": null,
   "id": "7229fcf7",
   "metadata": {},
   "outputs": [],
   "source": []
  }
 ],
 "metadata": {
  "kernelspec": {
   "display_name": "Python 3",
   "language": "python",
   "name": "python3"
  },
  "language_info": {
   "codemirror_mode": {
    "name": "ipython",
    "version": 3
   },
   "file_extension": ".py",
   "mimetype": "text/x-python",
   "name": "python",
   "nbconvert_exporter": "python",
   "pygments_lexer": "ipython3",
   "version": "3.8.8"
  }
 },
 "nbformat": 4,
 "nbformat_minor": 5
}
