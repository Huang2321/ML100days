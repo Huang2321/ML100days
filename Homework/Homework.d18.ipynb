{
 "cells": [
  {
   "cell_type": "code",
   "execution_count": null,
   "id": "8cb7abbf",
   "metadata": {},
   "outputs": [],
   "source": [
    "#hw1 在速度較慢的時候，可以先從哪邊開始檢查？\n",
    "#1. 資料型態是否為pkl\n",
    "#2. 使用python內建函式->groupby+agg+python內建函式最快\n",
    "#正確 檢查式法有自定義的函數->改成內建函式"
   ]
  },
  {
   "cell_type": "code",
   "execution_count": null,
   "id": "2e81756b",
   "metadata": {},
   "outputs": [],
   "source": [
    "#hw2 資料過大時應採取什麼方式讓記憶體占用量下降？\n",
    "#遇到大資料時，將欄位型態降級\n",
    "\n",
    "#首先先生成大資料，因為改善部分不同所以分成浮點數 float 與整數 int 的資料集\n",
    "#將整數型態 int 改成 uint 減少記憶體正用空間\n",
    "#將浮點數型態 float64 改成 float32 減少記憶體正用空間"
   ]
  }
 ],
 "metadata": {
  "kernelspec": {
   "display_name": "Python 3",
   "language": "python",
   "name": "python3"
  },
  "language_info": {
   "codemirror_mode": {
    "name": "ipython",
    "version": 3
   },
   "file_extension": ".py",
   "mimetype": "text/x-python",
   "name": "python",
   "nbconvert_exporter": "python",
   "pygments_lexer": "ipython3",
   "version": "3.8.8"
  }
 },
 "nbformat": 4,
 "nbformat_minor": 5
}
